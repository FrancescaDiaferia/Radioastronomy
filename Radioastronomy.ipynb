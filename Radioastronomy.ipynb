{
 "cells": [
  {
   "cell_type": "code",
   "execution_count": 11,
   "id": "b49eb5c4",
   "metadata": {},
   "outputs": [],
   "source": [
    "import matplotlib.mlab as mlab\n",
    "import matplotlib.pyplot as plt\n",
    "import numpy\n",
    "import seaborn as sns\n",
    "from numpy import sqrt,floor\n",
    "import numpy as np\n",
    "import scipy as sp\n",
    "from scipy import stats\n",
    "import pandas as pd\n",
    "import random\n",
    "import math as mt\n",
    "from scipy.optimize import curve_fit\n",
    "from scipy.fft import fft, ifft\n",
    "from scipy.fft import fft, fftfreq"
   ]
  },
  {
   "cell_type": "code",
   "execution_count": 12,
   "id": "01aa1a9c",
   "metadata": {},
   "outputs": [],
   "source": [
    "def linear (x,a,b):\n",
    "    return a*x+b"
   ]
  },
  {
   "cell_type": "markdown",
   "id": "93cf29b4",
   "metadata": {},
   "source": [
    "# Calibration of measuring instruments"
   ]
  },
  {
   "cell_type": "markdown",
   "id": "03e54363",
   "metadata": {},
   "source": [
    "## Calibration at gain = 7"
   ]
  },
  {
   "cell_type": "code",
   "execution_count": 13,
   "id": "43e5d778",
   "metadata": {},
   "outputs": [],
   "source": [
    "z0 = np.loadtxt(\"z3000.txt\", usecols = 2, unpack = True, skiprows=10)\n",
    "z1 = np.loadtxt(\"z3100.txt\", usecols = 2, unpack = True, skiprows=10)\n",
    "z2 = np.loadtxt(\"z3200.txt\", usecols = 2, unpack = True, skiprows=10)\n",
    "z3 = np.loadtxt(\"z3300.txt\", usecols = 2, unpack = True, skiprows=10)\n",
    "z4 = np.loadtxt(\"z3400.txt\", usecols = 2, unpack = True, skiprows=10)\n",
    "z5 = np.loadtxt(\"z3500.txt\", usecols = 2, unpack = True, skiprows=10)\n",
    "z6 = np.loadtxt(\"z3600.txt\", usecols = 2, unpack = True, skiprows=10)\n",
    "z7 = np.loadtxt(\"z3700.txt\", usecols = 2, unpack = True, skiprows=11)\n",
    "z8 = np.loadtxt(\"z3800.txt\", usecols = 2, unpack = True, skiprows=10)\n",
    "z9 = np.loadtxt(\"z3900.txt\", usecols = 2, unpack = True, skiprows=10)\n",
    "z10 = np.loadtxt(\"z4000.txt\", usecols = 2, unpack = True, skiprows=10)\n",
    "z11 = np.loadtxt(\"z4100.txt\", usecols = 2, unpack = True, skiprows=10)\n",
    "z12 = np.loadtxt(\"z4200.txt\", usecols = 2, unpack = True, skiprows=10)\n",
    "z13 = np.loadtxt(\"z4300.txt\", usecols = 2, unpack = True, skiprows=10)\n",
    "z14 = np.loadtxt(\"z4400.txt\", usecols = 2, unpack = True, skiprows=10)\n",
    "z15 = np.loadtxt(\"z4500.txt\", usecols = 2, unpack = True, skiprows=10)\n",
    "z16 = np.loadtxt(\"z4600.txt\", usecols = 2, unpack = True, skiprows=10)\n",
    "z17 = np.loadtxt(\"z4700.txt\", usecols = 2, unpack = True, skiprows=10)\n",
    "z18 = np.loadtxt(\"z4800.txt\", usecols = 2, unpack = True, skiprows=10)\n",
    "z19 = np.loadtxt(\"z4900.txt\", usecols = 2, unpack = True, skiprows=10)\n",
    "z20 = np.loadtxt(\"z5000.txt\", usecols = 2, unpack = True, skiprows=10)"
   ]
  },
  {
   "cell_type": "code",
   "execution_count": 14,
   "id": "f4a0263f",
   "metadata": {},
   "outputs": [],
   "source": [
    "count = np.array([np.mean(z0), np.mean(z1), np.mean(z2), np.mean(z3), np.mean(z4), np.mean(z5), np.mean(z6), np.mean(z7), np.mean(z8), np.mean(z9), np.mean(z10), np.mean(z11), np.mean(z12), np.mean(z13), np.mean(z14), np.mean(z15), np.mean(z16), np.mean(z17), np.mean(z18), np.mean(z19), np.mean(z20)])\n",
    "zb = np.array([3000, 3100, 3200, 3300, 3400, 3500, 3600, 3700, 3800, 3900, 4015, 4100, 4200, 4300, 4400, 4500, 4600, 4700, 4800, 4900, 5000])\n",
    "s_count = np.array([np.std(z0, ddof=1), np.std(z1, ddof=1), np.std(z2, ddof=1), np.std(z3, ddof=1), np.std(z4, ddof=1), np.std(z5, ddof=1), np.std(z6, ddof=1), np.std(z7, ddof=1), np.std(z8, ddof=1), np.std(z9, ddof=1), np.std(z10, ddof=1), np.std(z11, ddof=1), np.std(z12, ddof=1), np.std(z13, ddof=1), np.std(z14, ddof=1), np.std(z15, ddof=1), np.std(z16, ddof=1), np.std(z17, ddof=1), np.std(z18, ddof=1), np.std(z19, ddof=1), np.std(z20, ddof=1)])"
   ]
  },
  {
   "cell_type": "code",
   "execution_count": 15,
   "id": "290bea1a",
   "metadata": {},
   "outputs": [
    {
     "name": "stdout",
     "output_type": "stream",
     "text": [
      "m: -6.95731079956771 0.03202462870037974\n",
      "q: 37120.62864513281 114.4705705395143\n"
     ]
    },
    {
     "data": {
      "image/png": "[encoded data removed]",
      "text/plain": [
       "<Figure size 432x288 with 1 Axes>"
      ]
     },
     "metadata": {
      "needs_background": "light"
     },
     "output_type": "display_data"
    }
   ],
   "source": [
    "popt, pcov = curve_fit(linear, zb, count,sigma=s_count,absolute_sigma=False)\n",
    "m=popt[0]\n",
    "q=popt[1]\n",
    "perr = np.sqrt(np.diag(pcov))\n",
    "sm=perr[0]\n",
    "sq=perr[1]\n",
    "plt.plot(zb,zb*m+q,'--',label='Fit lineare',color=\"orchid\")\n",
    "plt.errorbar(zb,count,yerr=s_count,fmt='.',label='Dati sperimentali',color=\"black\")\n",
    "plt.xlabel('Zero base [ADU]')\n",
    "plt.ylabel('ADC count [ADU]')\n",
    "plt.title('Calibrazione al variare dello zero base')\n",
    "plt.legend()\n",
    "print(\"m:\",m,sm)\n",
    "print(\"q:\",q,sq)\n",
    "plt.grid()\n",
    "plt.show()"
   ]
  },
  {
   "cell_type": "markdown",
   "id": "39681f84",
   "metadata": {},
   "source": [
    "$A = -\\dfrac{m}{G\\cdot gain}$"
   ]
  },
  {
   "cell_type": "code",
   "execution_count": 16,
   "id": "ad26223f",
   "metadata": {},
   "outputs": [],
   "source": [
    "gain = 8\n",
    "G = 20\n",
    "A = - m / (G*gain)\n",
    "sigma_A = 1/(G*gain) * sm"
   ]
  },
  {
   "cell_type": "markdown",
   "id": "57dcc5a8",
   "metadata": {},
   "source": [
    "## Calibration at zero base = 4890"
   ]
  },
  {
   "cell_type": "code",
   "execution_count": 17,
   "id": "a918af16",
   "metadata": {},
   "outputs": [],
   "source": [
    "g1 = np.loadtxt(\"g2.txt\", usecols = 2, unpack = True, skiprows=10)\n",
    "g2 = np.loadtxt(\"g3.txt\", usecols = 2, unpack = True, skiprows=10)\n",
    "g3 = np.loadtxt(\"g4.txt\", usecols = 2, unpack = True, skiprows=10)\n",
    "g4 = np.loadtxt(\"g5.txt\", usecols = 2, unpack = True, skiprows=10)\n",
    "g5 = np.loadtxt(\"g6.txt\", usecols = 2, unpack = True, skiprows=11)\n",
    "g6 = np.loadtxt(\"g7.txt\", usecols = 2, unpack = True, skiprows=10)\n",
    "g7 = np.loadtxt(\"g8.txt\", usecols = 2, unpack = True, skiprows=10)\n",
    "g8 = np.loadtxt(\"g9_zb4890.txt\", usecols = 2, unpack = True, skiprows=10)"
   ]
  },
  {
   "cell_type": "code",
   "execution_count": 18,
   "id": "702293d6",
   "metadata": {},
   "outputs": [],
   "source": [
    "count2 = np.array([np.mean(g1), np.mean(g2), np.mean(g3), np.mean(g4), np.mean(g5), np.mean(g6), np.mean(g7), np.mean(g8)])\n",
    "gain = np.array([2.27, 2.67, 3.2, 4, 5.33, 8, 16, 24])\n",
    "s_count2 = np.array([np.std(g1, ddof=1), np.std(g2, ddof=1), np.std(g3, ddof=1), np.std(g4, ddof=1), np.std(g5, ddof=1), np.std(g6, ddof=1), np.std(g7, ddof=1), np.std(g8, ddof=1)])"
   ]
  },
  {
   "cell_type": "code",
   "execution_count": 19,
   "id": "18ce2d2d",
   "metadata": {},
   "outputs": [
    {
     "name": "stdout",
     "output_type": "stream",
     "text": [
      "m: 378.00793685716 2.1410852578850266\n",
      "q: 95.47204550994525 8.964365043397663\n"
     ]
    },
    {
     "data": {
      "image/png": "[encoded data removed]",
      "text/plain": [
       "<Figure size 432x288 with 1 Axes>"
      ]
     },
     "metadata": {
      "needs_background": "light"
     },
     "output_type": "display_data"
    }
   ],
   "source": [
    "popt, pcov = curve_fit(linear, gain, count2,sigma=s_count2,absolute_sigma=False)\n",
    "m=popt[0]\n",
    "q=popt[1]\n",
    "perr = np.sqrt(np.diag(pcov))\n",
    "sm=perr[0]\n",
    "sq=perr[1]\n",
    "plt.plot(gain,gain*m+q,'--',label='Fit lineare',color=\"orchid\")\n",
    "plt.errorbar(gain,count2,yerr=s_count2,fmt='.',label='Dati sperimentali',color=\"black\")\n",
    "plt.xlabel('Gain')\n",
    "plt.ylabel('ADC count [ADU]')\n",
    "plt.title('Calibrazione al variare del gain')\n",
    "plt.legend()\n",
    "print(\"m:\",m,sm)\n",
    "print(\"q:\",q,sq)\n",
    "plt.grid()\n",
    "plt.show()"
   ]
  },
  {
   "cell_type": "code",
   "execution_count": 20,
   "id": "e2a4b13b",
   "metadata": {},
   "outputs": [],
   "source": [
    "Voff = q\n",
    "s_Voff = sq"
   ]
  },
  {
   "cell_type": "markdown",
   "id": "39a5a41e",
   "metadata": {},
   "source": [
    "# Physical calibration: $T_{hot}$ and $T_{cold}$"
   ]
  },
  {
   "cell_type": "code",
   "execution_count": 21,
   "id": "da1d7704",
   "metadata": {},
   "outputs": [],
   "source": [
    "gain2 = np.array([2.67, 4, 5.33, 8])\n",
    "zb_hot = np.array([6450, 7680, 8300, 8910])\n",
    "zb_cold = np.array([3710, 4840, 5340, 5900])"
   ]
  },
  {
   "cell_type": "code",
   "execution_count": 22,
   "id": "a0ef89b4",
   "metadata": {},
   "outputs": [],
   "source": [
    "Sh3 = np.loadtxt(\"t_amb-gain3.txt\", usecols = 2, unpack = True, skiprows=10)\n",
    "Sh5 = np.loadtxt(\"t_amb-gain5.txt\", usecols = 2, unpack = True, skiprows=10)\n",
    "Sh6 = np.loadtxt(\"tamb_gain6.txt\", usecols = 2, unpack = True, skiprows=10)\n",
    "Sh7 = np.loadtxt(\"t_amb-gain7.txt\", usecols = 2, unpack = True, skiprows=10)\n",
    "Sc3 = np.loadtxt(\"t_cold_g3.txt\", usecols = 2, unpack = True, skiprows=10) \n",
    "Sc5 = np.loadtxt(\"t_cold_g5.txt\", usecols = 2, unpack = True, skiprows=10) \n",
    "Sc6 = np.loadtxt(\"t_cold_gain6.txt\", usecols = 2, unpack = True, skiprows=10) \n",
    "Sc7 = np.loadtxt(\"t_cold_gain7.txt\", usecols = 2, unpack = True, skiprows=11) \n",
    "\n",
    "s_S_hot = np.array([Sh3.std()/(len(Sh3))**0.5,Sh5.std()/(len(Sh5))**0.5,Sh6.std()/(len(Sh6))**0.5,Sh7.std()/(len(Sh7))**0.5])\n",
    "s_S_cold = np.array([Sc3.std()/(len(Sc3))**0.5,Sc5.std()/(len(Sc5))**0.5,Sc6.std()/(len(Sc6))**0.5,Sc7.std()/(len(Sc7))**0.5])\n"
   ]
  },
  {
   "cell_type": "code",
   "execution_count": 23,
   "id": "693d390f",
   "metadata": {},
   "outputs": [],
   "source": [
    "Sh3 = (np.loadtxt(\"t_amb-gain3.txt\", usecols = 2, unpack = True, skiprows=10) - Voff + G * gain2[0] * A * zb_hot[0]) / ( (1+G)*gain2[0] )\n",
    "Sh5 = (np.loadtxt(\"t_amb-gain5.txt\", usecols = 2, unpack = True, skiprows=10) - Voff + G * gain2[1] * A * zb_hot[1]) / ( (1+G)*gain2[1] )\n",
    "Sh6 = (np.loadtxt(\"tamb_gain6.txt\", usecols = 2, unpack = True, skiprows=10) - Voff + G * gain2[2] * A * zb_hot[2]) / ( (1+G)*gain2[2] )\n",
    "Sh7 = (np.loadtxt(\"t_amb-gain7.txt\", usecols = 2, unpack = True, skiprows=10) - Voff + G * gain2[3] * A * zb_hot[3]) / ( (1+G)*gain2[3] )\n",
    "Sc3 = (np.loadtxt(\"t_cold_g3.txt\", usecols = 2, unpack = True, skiprows=10) - Voff + G * gain2[0] * A * zb_cold[0]) / ( (1+G)*gain2[0] )\n",
    "Sc5 = (np.loadtxt(\"t_cold_g5.txt\", usecols = 2, unpack = True, skiprows=10) - Voff + G * gain2[1] * A * zb_cold[1]) / ( (1+G)*gain2[1] )\n",
    "Sc6 = (np.loadtxt(\"t_cold_gain6.txt\", usecols = 2, unpack = True, skiprows=10) - Voff + G * gain2[2] * A * zb_cold[2]) / ( (1+G)*gain2[2] )\n",
    "Sc7 = (np.loadtxt(\"t_cold_gain7.txt\", usecols = 2, unpack = True, skiprows=11) - Voff + G * gain2[3] * A * zb_cold[3]) / ( (1+G)*gain2[3] )\n"
   ]
  },
  {
   "cell_type": "code",
   "execution_count": 24,
   "id": "e00b3be4",
   "metadata": {},
   "outputs": [],
   "source": [
    "S_hot = np.array([Sh3.mean(),Sh5.mean(),Sh6.mean(),Sh7.mean()])\n",
    "S_cold = np.array([Sc3.mean(),Sc5.mean(),Sc6.mean(),Sc7.mean()])"
   ]
  },
  {
   "cell_type": "code",
   "execution_count": 25,
   "id": "420dce0e",
   "metadata": {},
   "outputs": [],
   "source": [
    "T_h = np.loadtxt(\"temperature.txt\", usecols = 0, unpack = True)\n",
    "T_hot = T_h.mean() + 273.15\n",
    "s_T_hot = T_h.std()"
   ]
  },
  {
   "cell_type": "code",
   "execution_count": 26,
   "id": "ae85a5a1",
   "metadata": {},
   "outputs": [],
   "source": [
    "T_cold = 77 \n",
    "s_T_cold = 1"
   ]
  },
  {
   "cell_type": "code",
   "execution_count": 27,
   "id": "09b621a8",
   "metadata": {},
   "outputs": [
    {
     "name": "stdout",
     "output_type": "stream",
     "text": [
      "292.301888814918 0.4758141679914265\n",
      "2.8061619834757052\n"
     ]
    }
   ],
   "source": [
    "den = 0\n",
    "num = 0\n",
    "for i in range(0,3):\n",
    "    num += S_cold[i]/(s_S_cold[i]*s_S_cold[i])\n",
    "    den += 1/(s_S_cold[i]*s_S_cold[i])\n",
    "\n",
    "S_cold_medio = num/den\n",
    "print(S_cold_medio, den)\n",
    "print(s_S_cold.mean())"
   ]
  },
  {
   "cell_type": "code",
   "execution_count": 28,
   "id": "72e2a0c4",
   "metadata": {},
   "outputs": [
    {
     "name": "stdout",
     "output_type": "stream",
     "text": [
      "416.49853176229294 10.887490619653978\n",
      "1.1540367755277932\n"
     ]
    }
   ],
   "source": [
    "den = 0\n",
    "num = 0\n",
    "for i in range(0,3):\n",
    "    num += S_hot[i]/(s_S_hot[i]*s_S_hot[i])\n",
    "    den += 1/(s_S_hot[i]*s_S_hot[i])\n",
    "\n",
    "S_hot_medio = num/den\n",
    "\n",
    "print(S_hot_medio, den)\n",
    "print(s_S_hot.mean())"
   ]
  },
  {
   "cell_type": "code",
   "execution_count": 29,
   "id": "4c203640",
   "metadata": {},
   "outputs": [],
   "source": [
    "C = (S_hot_medio - S_cold_medio)/(T_hot - T_cold)\n",
    "s_C = C * ( (s_S_hot.mean() + s_S_cold.mean())/(S_hot_medio-S_cold_medio)  + (s_T_hot+ s_T_cold)/(T_hot-T_cold) )\n"
   ]
  },
  {
   "cell_type": "code",
   "execution_count": 30,
   "id": "486057be",
   "metadata": {},
   "outputs": [],
   "source": [
    "#system temperature\n",
    "T_sys = S_hot_medio/C - T_hot\n",
    "s_T_sys = s_T_hot.mean() + (S_hot_medio/C) * (s_C/C + s_S_hot.mean()/S_hot.mean())"
   ]
  },
  {
   "cell_type": "markdown",
   "id": "7aa249ef",
   "metadata": {},
   "source": [
    "# Secant law"
   ]
  },
  {
   "cell_type": "code",
   "execution_count": 31,
   "id": "f14a476f",
   "metadata": {},
   "outputs": [],
   "source": [
    "T_loss = 13\n",
    "T_spill = 6\n",
    "G = 20\n",
    "az = np.array([5,10,15,20,25,30,35,40,45,50,55,60,65,70,75,80,85,90]) "
   ]
  },
  {
   "cell_type": "code",
   "execution_count": 32,
   "id": "bff611d9",
   "metadata": {},
   "outputs": [],
   "source": [
    "secanti = np.zeros(18)\n",
    "\n",
    "for a in range(1,18):\n",
    "    secanti[17-(a-1)] = 1/mt.cos(mt.radians(a*5))\n",
    "\n",
    "x = secanti\n"
   ]
  },
  {
   "cell_type": "markdown",
   "id": "dfec2f2d",
   "metadata": {},
   "source": [
    "##### Gain = 2.67"
   ]
  },
  {
   "cell_type": "code",
   "execution_count": 33,
   "id": "fac54366",
   "metadata": {},
   "outputs": [],
   "source": [
    "zb_3 = 3930\n",
    "gain_3 = 2.67"
   ]
  },
  {
   "cell_type": "code",
   "execution_count": 34,
   "id": "a346c995",
   "metadata": {},
   "outputs": [],
   "source": [
    "s3_in = np.loadtxt(\"Scan gain 3 (rifatto).txt\", usecols = 2, unpack = True, skiprows=113)\n",
    "s3 = (s3_in-Voff + G * gain_3 * A * zb_3) / ( (1+G) * gain_3 ) #S_Sky"
   ]
  },
  {
   "cell_type": "code",
   "execution_count": 35,
   "id": "9b9389c5",
   "metadata": {},
   "outputs": [
    {
     "name": "stdout",
     "output_type": "stream",
     "text": [
      "[248.55176919 239.32401816 234.1126752  230.55462276 227.79022112\n",
      " 226.18865166 225.19168358 224.69587477 224.1947155  223.8166167\n",
      " 225.02225251 225.65538966 224.15904581 224.73332795 225.32187798\n",
      " 225.43245405 226.30636166 228.62489207]\n"
     ]
    },
    {
     "data": {
      "image/png": "[encoded data removed]",
      "text/plain": [
       "<Figure size 432x288 with 1 Axes>"
      ]
     },
     "metadata": {
      "needs_background": "light"
     },
     "output_type": "display_data"
    }
   ],
   "source": [
    "a = 0\n",
    "mean3 = np.zeros(len(az))\n",
    "std3 = np.zeros(len(az))\n",
    "for n in range(0, len(mean3)):\n",
    "    std3[n] = s3[a:a+10].std()\n",
    "    mean3[n] = s3[a:a+10].mean()\n",
    "    a = a+17\n",
    "print(mean3)\n",
    "plt.plot(az, mean3, 'o', color = 'royalblue') \n",
    "plt.xlabel('z [°]')\n",
    "plt.grid()\n",
    "\n",
    "plt.ylabel('$S_{sky}$ [ADU]')\n",
    "plt.title(\"Andamento del segnale in funzione dell'angolo azimutale\\n gain=2.67, zerobase=3930\")\n",
    "plt.show()"
   ]
  },
  {
   "cell_type": "markdown",
   "id": "721f2b0a",
   "metadata": {},
   "source": [
    "Linearization: $x = \\frac{1}{cos(az)}$ e $y = \\frac{S_{sky}}{C}$, where $S_{sky} = \\frac{S-V_{off}+ G \\cdot gain \\cdot A \\cdot Z_b}{(1+G)\\cdot gain}$"
   ]
  },
  {
   "cell_type": "code",
   "execution_count": 36,
   "id": "2bcf8883",
   "metadata": {},
   "outputs": [],
   "source": [
    "zb_3 = 3930\n",
    "G = 20\n",
    "gain_3 = 2.67\n",
    "\n",
    "y3 = mean3 / C\n",
    "s_y3 = (std3 + s_Voff + (G * gain_3 * zb_3) * sigma_A) / ( (1+G)*gain_3 )"
   ]
  },
  {
   "cell_type": "code",
   "execution_count": 37,
   "id": "20e53444",
   "metadata": {},
   "outputs": [
    {
     "name": "stdout",
     "output_type": "stream",
     "text": [
      "m: 4.2373731199598765 0.15031910189165568\n",
      "q: 383.36768224259316 0.4545530335796142\n"
     ]
    },
    {
     "data": {
      "image/png": "[encoded data removed]",
      "text/plain": [
       "<Figure size 432x288 with 1 Axes>"
      ]
     },
     "metadata": {
      "needs_background": "light"
     },
     "output_type": "display_data"
    }
   ],
   "source": [
    "popt, pcov = curve_fit(linear, x[2:10], y3[2:10],sigma=s_y3[2:10],absolute_sigma=False)\n",
    "m=popt[0]\n",
    "q=popt[1]\n",
    "perr = np.sqrt(np.diag(pcov))\n",
    "sm=perr[0]\n",
    "sq=perr[1]\n",
    "plt.plot(x[2:10],x[2:10]*m+q,'--',label='Fit lineare',color=\"orchid\")\n",
    "plt.errorbar(x[2:10],y3[2:10], yerr=s_y3[2:10],fmt='.',label='Dati sperimentali',color=\"black\")\n",
    "plt.xlabel('sec(z)')\n",
    "plt.ylabel('$S_{sky}/C$ [K]')\n",
    "plt.title('Legge della secante con gain 2.67')\n",
    "plt.legend()\n",
    "print(\"m:\",m,sm)\n",
    "print(\"q:\",q,sq)\n",
    "plt.grid()\n",
    "plt.show()"
   ]
  },
  {
   "cell_type": "code",
   "execution_count": 38,
   "id": "3c360bc7",
   "metadata": {},
   "outputs": [],
   "source": [
    "#T_CMB\n",
    "Tcmb = q - (T_sys + T_loss + T_spill)\n",
    "sigma_Tcmb = sq + s_T_sys"
   ]
  },
  {
   "cell_type": "markdown",
   "id": "22201a33",
   "metadata": {},
   "source": [
    "Reapting this method for every gain we will obtain others estimates of the Cosmic Microwave Background temperature. A weighted average can be produced."
   ]
  },
  {
   "cell_type": "code",
   "execution_count": null,
   "id": "fd37f9da",
   "metadata": {},
   "outputs": [],
   "source": []
  }
 ],
 "metadata": {
  "kernelspec": {
   "display_name": "Python 3 (ipykernel)",
   "language": "python",
   "name": "python3"
  },
  "language_info": {
   "codemirror_mode": {
    "name": "ipython",
    "version": 3
   },
   "file_extension": ".py",
   "mimetype": "text/x-python",
   "name": "python",
   "nbconvert_exporter": "python",
   "pygments_lexer": "ipython3",
   "version": "3.9.7"
  }
 },
 "nbformat": 4,
 "nbformat_minor": 5
}
